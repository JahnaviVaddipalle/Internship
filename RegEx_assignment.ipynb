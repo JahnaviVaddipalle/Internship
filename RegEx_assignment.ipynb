{
 "cells": [
  {
   "cell_type": "markdown",
   "id": "27c54fe8",
   "metadata": {},
   "source": [
    "1 Write a Python program to check that a string contains only a certain set of characters (in this case a-z, A-Z and 0-9)."
   ]
  },
  {
   "cell_type": "code",
   "execution_count": 17,
   "id": "228db3a5",
   "metadata": {},
   "outputs": [],
   "source": [
    "import regex as re"
   ]
  },
  {
   "cell_type": "code",
   "execution_count": 18,
   "id": "ddc8cb58",
   "metadata": {},
   "outputs": [
    {
     "name": "stdout",
     "output_type": "stream",
     "text": [
      "['T', 'h', 'e', 'q', 'u', 'i', 'c', 'k', 'b', 'r', 'o', 'w', 'n', 'F', 'o', 'x', 'j', 'u', 'm', 'p', 's', 'o', 'v', 'e', 'r', 't', 'h', 'e', 'l', 'a', 'z', 'y', 'D', 'o', 'g', '1', '3', '4', '6', '5', '4', '7', 'r', 'u', '6', '7']\n"
     ]
    }
   ],
   "source": [
    "string1 = \"The quick brown Fox jumps over the lazy Dog 1346547ru67.\"\n",
    "pattern = r\"[0-9A-Za-z]\"\n",
    "result = re.findall(pattern,string1)\n",
    "print(result)\n"
   ]
  },
  {
   "cell_type": "markdown",
   "id": "adc3686a",
   "metadata": {},
   "source": [
    "2. Function in python that matches a string that has an a followed by zero or more b's"
   ]
  },
  {
   "cell_type": "code",
   "execution_count": 15,
   "id": "98e9aa7d",
   "metadata": {},
   "outputs": [
    {
     "data": {
      "text/plain": [
       "['a', 'ab', 'ab', 'a']"
      ]
     },
     "execution_count": 15,
     "metadata": {},
     "output_type": "execute_result"
    }
   ],
   "source": [
    "import regex as re\n",
    "\n",
    "txt= \"aob bought big ablue aballoon.\"\n",
    "pattern = r'ab*'\n",
    "result = re.findall(pattern,txt)\n",
    "result"
   ]
  },
  {
   "cell_type": "markdown",
   "id": "4736df31",
   "metadata": {},
   "source": [
    "3.Function in python that matches a string that has an a followed by one or more b's"
   ]
  },
  {
   "cell_type": "code",
   "execution_count": 14,
   "id": "593a62fd",
   "metadata": {},
   "outputs": [
    {
     "data": {
      "text/plain": [
       "['ab', 'ab']"
      ]
     },
     "execution_count": 14,
     "metadata": {},
     "output_type": "execute_result"
    }
   ],
   "source": [
    "import regex as re\n",
    "\n",
    "txt= \"Hello, Mission abort in abrboadway\"\n",
    "pattern = r'ab+'\n",
    "result = re.findall(pattern,txt)\n",
    "result"
   ]
  },
  {
   "cell_type": "markdown",
   "id": "012c6c7a",
   "metadata": {},
   "source": [
    " 4. Python and use RegEx that matches a string that has an a followed by zero or one 'b'."
   ]
  },
  {
   "cell_type": "code",
   "execution_count": 13,
   "id": "3c9384ff",
   "metadata": {},
   "outputs": [
    {
     "data": {
      "text/plain": [
       "['a', 'a', 'ab', 'a', 'ab', 'a']"
      ]
     },
     "execution_count": 13,
     "metadata": {},
     "output_type": "execute_result"
    }
   ],
   "source": [
    "import regex as re\n",
    "\n",
    "txt= \"Hello, I have a big abrown bag from abroad.\"\n",
    "pattern = r'ab?'\n",
    "result = re.findall(pattern,txt)\n",
    "result"
   ]
  },
  {
   "cell_type": "markdown",
   "id": "cdc37dd4",
   "metadata": {},
   "source": [
    "5. Python program that matches a string that has an a followed by three 'b'."
   ]
  },
  {
   "cell_type": "code",
   "execution_count": 22,
   "id": "3466c940",
   "metadata": {},
   "outputs": [
    {
     "data": {
      "text/plain": [
       "['bbbotter', 'bbbbutter']"
      ]
     },
     "execution_count": 22,
     "metadata": {},
     "output_type": "execute_result"
    }
   ],
   "source": [
    "import regex as re\n",
    "\n",
    "txt = \"bbetty bbbotter bbought some bbbbutter\"\n",
    "pattern = r'b{3}\\w+'\n",
    "result = re.findall(pattern,txt)\n",
    "result"
   ]
  },
  {
   "cell_type": "markdown",
   "id": "882d8fdc",
   "metadata": {},
   "source": [
    " 6. Regular expression in Python to split a string into uppercase letters.\n"
   ]
  },
  {
   "cell_type": "code",
   "execution_count": 23,
   "id": "9d189181",
   "metadata": {},
   "outputs": [
    {
     "name": "stdout",
     "output_type": "stream",
     "text": [
      "['', 'Importance', 'Of', 'Regular', 'Expressions', 'In', 'Python']\n"
     ]
    }
   ],
   "source": [
    "import regex as re\n",
    "\n",
    "text =\"ImportanceOfRegularExpressionsInPython\"\n",
    "result = re.split(r'(?=[A-Z])', text)\n",
    "print(result)\n"
   ]
  },
  {
   "cell_type": "markdown",
   "id": "370b9708",
   "metadata": {},
   "source": [
    "7. Write a Python program that matches a string that has an a followed by two to three 'b'."
   ]
  },
  {
   "cell_type": "code",
   "execution_count": 24,
   "id": "a07ad1e7",
   "metadata": {},
   "outputs": [
    {
     "data": {
      "text/plain": [
       "['bbetty', 'bbbotter']"
      ]
     },
     "execution_count": 24,
     "metadata": {},
     "output_type": "execute_result"
    }
   ],
   "source": [
    "import regex as re\n",
    "\n",
    "txt = \"bbetty bbbotter bought some butterbbb\"\n",
    "pattern = r'\\bb{2,3}\\w+'\n",
    "result = re.findall(pattern,txt)\n",
    "result"
   ]
  },
  {
   "cell_type": "markdown",
   "id": "ca2f7dd4",
   "metadata": {},
   "source": [
    "8. Python program to find sequences of lowercase letters joined with a underscore."
   ]
  },
  {
   "cell_type": "code",
   "execution_count": 12,
   "id": "017ebdeb",
   "metadata": {},
   "outputs": [
    {
     "data": {
      "text/plain": [
       "['a_', 'b_', 'c_', 'd_', 'e_']"
      ]
     },
     "execution_count": 12,
     "metadata": {},
     "output_type": "execute_result"
    }
   ],
   "source": [
    "import regex as re\n",
    "\n",
    "text =\"a_b_c_d_e_A_B_C_D_e,\"\n",
    "pattern = r'[a-e]\\w'\n",
    "result = re.findall(pattern, text)\n",
    "result"
   ]
  },
  {
   "cell_type": "markdown",
   "id": "c4a223e1",
   "metadata": {},
   "source": [
    "9. Python program that matches a string that has an 'a' followed by anything, ending in 'b'."
   ]
  },
  {
   "cell_type": "code",
   "execution_count": 16,
   "id": "9d031335",
   "metadata": {},
   "outputs": [
    {
     "data": {
      "text/plain": [
       "<regex.Match object; span=(60, 64), match='Arab'>"
      ]
     },
     "execution_count": 16,
     "metadata": {},
     "output_type": "execute_result"
    }
   ],
   "source": [
    "import regex as re\n",
    "\n",
    "\n",
    "text =\"Kuwaiti Dinar is commonly used in oil based transactions in Arab countries\"\n",
    "pattern = \"A..b\"\n",
    "result = re.search(pattern, text)\n",
    "result"
   ]
  },
  {
   "cell_type": "markdown",
   "id": "29540fcf",
   "metadata": {},
   "source": [
    "10. Write a Python program that matches a word at the beginning of a string."
   ]
  },
  {
   "cell_type": "code",
   "execution_count": 27,
   "id": "0835b0fc",
   "metadata": {},
   "outputs": [
    {
     "data": {
      "text/plain": [
       "['Kuwaiti']"
      ]
     },
     "execution_count": 27,
     "metadata": {},
     "output_type": "execute_result"
    }
   ],
   "source": [
    "import regex as re\n",
    "\n",
    "txt = \"Kuwaiti Dinar is commonly used Kuwaiti in oil based transactions in Arab countries\"\n",
    "pattern = r\"^Kuwaiti\"\n",
    "result = re.findall(pattern,txt)\n",
    "result"
   ]
  },
  {
   "cell_type": "markdown",
   "id": "cb36fbca",
   "metadata": {},
   "source": [
    "11.Write a Python program to match a string that contains only upper and lowercase letters, numbers, and underscores."
   ]
  },
  {
   "cell_type": "code",
   "execution_count": 18,
   "id": "5d02bcfd",
   "metadata": {},
   "outputs": [
    {
     "data": {
      "text/plain": [
       "['4members', 'lives', '4th', 'floor', 'of_', 'the', '4th', 'BLOCK']"
      ]
     },
     "execution_count": 18,
     "metadata": {},
     "output_type": "execute_result"
    }
   ],
   "source": [
    "text = \"4members lives @ 4th floor #$% of_ the 4th BLOCK\"\n",
    "pattern = r'\\b[a-zA-Z0-9_]\\w+'\n",
    "result = re.findall(pattern, text)\n",
    "result"
   ]
  },
  {
   "cell_type": "markdown",
   "id": "d4f7912f",
   "metadata": {},
   "source": [
    "12. Write a Python program where a string will start with a specific number. "
   ]
  },
  {
   "cell_type": "code",
   "execution_count": 29,
   "id": "14191d58",
   "metadata": {},
   "outputs": [
    {
     "data": {
      "text/plain": [
       "['4members']"
      ]
     },
     "execution_count": 29,
     "metadata": {},
     "output_type": "execute_result"
    }
   ],
   "source": [
    "txt= \"4members lives in 4th floor of the 4thblock\"\n",
    "pattern = r'^[4]\\w+'\n",
    "result= re.findall(pattern,txt)\n",
    "result"
   ]
  },
  {
   "cell_type": "markdown",
   "id": "90a9eadf",
   "metadata": {},
   "source": [
    "13 Python program to remove leading zeros from an IP address"
   ]
  },
  {
   "cell_type": "code",
   "execution_count": 30,
   "id": "5bf191ff",
   "metadata": {},
   "outputs": [
    {
     "data": {
      "text/plain": [
       "'192.168.  1. 1 '"
      ]
     },
     "execution_count": 30,
     "metadata": {},
     "output_type": "execute_result"
    }
   ],
   "source": [
    "text = \"192.168.001.010\"\n",
    "pattern = r'[0]'\n",
    "result = re.sub(pattern,\" \",text)\n",
    "result"
   ]
  },
  {
   "cell_type": "markdown",
   "id": "f19d19c8",
   "metadata": {},
   "source": [
    "14- Regular expression in python to match a date string in the form of Month name followed by day number and year stored in a text file.\n"
   ]
  },
  {
   "cell_type": "code",
   "execution_count": 27,
   "id": "85860a6e",
   "metadata": {
    "scrolled": true
   },
   "outputs": [
    {
     "data": {
      "text/plain": [
       "['August 15th 1947']"
      ]
     },
     "execution_count": 27,
     "metadata": {},
     "output_type": "execute_result"
    }
   ],
   "source": [
    "import regex as re\n",
    "\n",
    "text = \"On August 15th 1947 that India was declared independent from British colonialism, and the reins of control were handed over to the leaders of the Country\"\n",
    "pattern = r'\\b([A-Za-z]+ \\d{1,3}(?:st|nd|rd|th)? \\d{4})'\n",
    "result = re.findall(pattern,text)\n",
    "result"
   ]
  },
  {
   "cell_type": "markdown",
   "id": "c5b795ae",
   "metadata": {},
   "source": [
    "15. Python program to search some literals strings in a string. Go to the editor\n"
   ]
  },
  {
   "cell_type": "code",
   "execution_count": 32,
   "id": "ec1720b0",
   "metadata": {},
   "outputs": [
    {
     "data": {
      "text/plain": [
       "['fox', 'dog']"
      ]
     },
     "execution_count": 32,
     "metadata": {},
     "output_type": "execute_result"
    }
   ],
   "source": [
    "text = 'The quick brown fox jumps over the lazy dog.'\n",
    "pattern = r'\\b[f.x,d.g,h...e]\\w+'\n",
    "result= re.findall(pattern,text)\n",
    "result"
   ]
  },
  {
   "cell_type": "markdown",
   "id": "a0792fbd",
   "metadata": {},
   "source": [
    "16.  Python program to search a literals string in a string and also find the location within the original string where the pattern occurs"
   ]
  },
  {
   "cell_type": "code",
   "execution_count": 33,
   "id": "d37dfb14",
   "metadata": {},
   "outputs": [
    {
     "data": {
      "text/plain": [
       "<regex.Match object; span=(16, 19), match='fox'>"
      ]
     },
     "execution_count": 33,
     "metadata": {},
     "output_type": "execute_result"
    }
   ],
   "source": [
    "import regex as re\n",
    "txt = 'The quick brown fox jumps over the lazy dog.'\n",
    "pattern = r'[f.x]\\w+'\n",
    "result = re.search(pattern, text)\n",
    "result"
   ]
  },
  {
   "cell_type": "markdown",
   "id": "1dde1427",
   "metadata": {},
   "source": [
    "17.Python program to find the substrings within a string."
   ]
  },
  {
   "cell_type": "code",
   "execution_count": 34,
   "id": "46cc9577",
   "metadata": {},
   "outputs": [
    {
     "data": {
      "text/plain": [
       "['ex', 'er', 'es', 'ex', 'er', 'es', 'ex', 'er', 'es']"
      ]
     },
     "execution_count": 34,
     "metadata": {},
     "output_type": "execute_result"
    }
   ],
   "source": [
    "import regex as re\n",
    "txt = 'Python exercises, PHP exercises, C# exercises'\n",
    "pattern =  r'[e.*]\\w'\n",
    "result = re.findall(pattern,txt)\n",
    "result\n"
   ]
  },
  {
   "cell_type": "markdown",
   "id": "c6e2e68b",
   "metadata": {},
   "source": [
    "18. Python program to find the occurrence and position of the substrings within a string."
   ]
  },
  {
   "cell_type": "code",
   "execution_count": 35,
   "id": "642e5988",
   "metadata": {},
   "outputs": [
    {
     "data": {
      "text/plain": [
       "<regex.Match object; span=(1, 3), match='he'>"
      ]
     },
     "execution_count": 35,
     "metadata": {},
     "output_type": "execute_result"
    }
   ],
   "source": [
    "import regex as re\n",
    "text = \"She sells seashells by the seashore.\"\n",
    "pattern = r'[h..]\\w+'\n",
    "result = re.search(pattern,text)\n",
    "result"
   ]
  },
  {
   "cell_type": "markdown",
   "id": "b7f977e4",
   "metadata": {},
   "source": [
    "19. Python program to convert a date of yyyy-mm-dd format to dd-mm-yyyy format."
   ]
  },
  {
   "cell_type": "code",
   "execution_count": 20,
   "id": "715a7880",
   "metadata": {},
   "outputs": [
    {
     "data": {
      "text/plain": [
       "'31-12-2022'"
      ]
     },
     "execution_count": 20,
     "metadata": {},
     "output_type": "execute_result"
    }
   ],
   "source": [
    "import regex as re\n",
    "\n",
    "date = \"2022-12-31\"\n",
    "pattern = r'(\\d{4})-(\\d{2})-(\\d{2})'\n",
    "result = re.sub(pattern, r'\\3-\\2-\\1', date)\n",
    "result"
   ]
  },
  {
   "cell_type": "markdown",
   "id": "adebf4ff",
   "metadata": {},
   "source": [
    "20 Python program to find all words starting with 'a' or 'e' in a given string."
   ]
  },
  {
   "cell_type": "code",
   "execution_count": 37,
   "id": "81f1ed3c",
   "metadata": {},
   "outputs": [
    {
     "data": {
      "text/plain": [
       "['alice', 'ethan', 'early']"
      ]
     },
     "execution_count": 37,
     "metadata": {},
     "output_type": "execute_result"
    }
   ],
   "source": [
    "import regex as re\n",
    "txt = \"alice & ethan went to their school early this morning\"\n",
    "pattern =  r'\\b[aAeE]\\w+'\n",
    "result = re.findall(pattern,txt)\n",
    "result"
   ]
  },
  {
   "cell_type": "markdown",
   "id": "6bab29d3",
   "metadata": {},
   "source": [
    "21. a Python program to separate and print the numbers and their position of a given string."
   ]
  },
  {
   "cell_type": "code",
   "execution_count": 35,
   "id": "01b97523",
   "metadata": {},
   "outputs": [
    {
     "name": "stdout",
     "output_type": "stream",
     "text": [
      "Number: 4, Position: (0, 1)\n",
      "Number: 5, Position: (18, 19)\n",
      "Number: 6, Position: (39, 40)\n"
     ]
    }
   ],
   "source": [
    "import re\n",
    "\n",
    "txt = \"4 members lives @ 5th floor #$% of the 6th BLOCK\"\n",
    "matches = re.finditer(r'\\d+', txt)\n",
    "for match in matches:\n",
    "    number = match.group()\n",
    "    position = match.span()\n",
    "    print(f\"Number: {number}, Position: {position}\")\n"
   ]
  },
  {
   "cell_type": "markdown",
   "id": "ac744bcd",
   "metadata": {},
   "source": [
    "22. a regular expression in python program to extract maximum numeric value from a string"
   ]
  },
  {
   "cell_type": "code",
   "execution_count": 39,
   "id": "a07f6dc3",
   "metadata": {},
   "outputs": [
    {
     "data": {
      "text/plain": [
       "['15', '698', '54654631046']"
      ]
     },
     "execution_count": 39,
     "metadata": {},
     "output_type": "execute_result"
    }
   ],
   "source": [
    "import regex as re\n",
    "\n",
    "txt = \"Hello World in Python15 using RegEx698 #54654631046\"\n",
    "pattern = r'\\d+'\n",
    "result = re.findall(pattern, txt)\n",
    "result"
   ]
  },
  {
   "cell_type": "markdown",
   "id": "c27cd4e9",
   "metadata": {},
   "source": [
    "23. Regex in Python to put spaces between words starting with capital letters"
   ]
  },
  {
   "cell_type": "code",
   "execution_count": 40,
   "id": "83ad63b7",
   "metadata": {},
   "outputs": [
    {
     "name": "stdout",
     "output_type": "stream",
     "text": [
      "['', 'Importance0f', 'Regular', 'Expressionsin', 'Python']\n"
     ]
    }
   ],
   "source": [
    "import regex as re\n",
    "\n",
    "text =\"Importance0fRegularExpressionsinPython\"\n",
    "result = re.split(r'(?=[A-Z])', text)\n",
    "print(result)"
   ]
  },
  {
   "cell_type": "markdown",
   "id": "48be5464",
   "metadata": {},
   "source": [
    "24. Python regex to find sequences of one upper case letter followed by lower case letters"
   ]
  },
  {
   "cell_type": "code",
   "execution_count": 41,
   "id": "95479236",
   "metadata": {},
   "outputs": [
    {
     "data": {
      "text/plain": [
       "['The', 'Quick', 'Brown', 'Fox', 'Jumps', 'Lazy', 'Dog']"
      ]
     },
     "execution_count": 41,
     "metadata": {},
     "output_type": "execute_result"
    }
   ],
   "source": [
    "import regex as re\n",
    "\n",
    "text = \"The Quick Brown Fox Jumps over the Lazy Dog\"\n",
    "pattern = r'[A-Z][a-z]+'\n",
    "result = re.findall(pattern, text)\n",
    "result"
   ]
  },
  {
   "cell_type": "markdown",
   "id": "a0b16fe9",
   "metadata": {},
   "source": [
    "25. Python program to remove duplicate words from Sentence using Regular Expression"
   ]
  },
  {
   "cell_type": "code",
   "execution_count": 42,
   "id": "a07baafc",
   "metadata": {},
   "outputs": [
    {
     "data": {
      "text/plain": [
       "'this is the  importance of regular expressions  in  Python'"
      ]
     },
     "execution_count": 42,
     "metadata": {},
     "output_type": "execute_result"
    }
   ],
   "source": [
    "import regex as re\n",
    "\n",
    "txt = \"this is the importance importance of regular expressions in in Python Python\"\n",
    "pattern = r'\\b(\\w+)\\b\\s+(?=.*\\b\\1\\b)'\n",
    "result =re.sub(pattern,\" \" , txt)\n",
    "result\n"
   ]
  },
  {
   "cell_type": "markdown",
   "id": "b669d6bc",
   "metadata": {},
   "source": [
    "26. python program using RegEx to accept string ending with alphanumeric character."
   ]
  },
  {
   "cell_type": "code",
   "execution_count": 43,
   "id": "c6132f06",
   "metadata": {},
   "outputs": [
    {
     "data": {
      "text/plain": [
       "<regex.Match object; span=(0, 11), match='Hello world'>"
      ]
     },
     "execution_count": 43,
     "metadata": {},
     "output_type": "execute_result"
    }
   ],
   "source": [
    "import regex as re\n",
    "\n",
    "text = \"Hello123\"\n",
    "text1 = \"Hello world\"\n",
    "pattern = r'^.*[a-zA-Z0-9]$'\n",
    "result = re.match(pattern,text)\n",
    "result1 = re.match(pattern, text1)\n",
    "result\n",
    "result1"
   ]
  },
  {
   "cell_type": "markdown",
   "id": "0a7fe719",
   "metadata": {},
   "source": [
    "27-Write a python program using RegEx to extract the hashtags.\n",
    "\n"
   ]
  },
  {
   "cell_type": "code",
   "execution_count": 44,
   "id": "619ea397",
   "metadata": {},
   "outputs": [
    {
     "data": {
      "text/plain": [
       "['#Doltiwal', '#xyzabc', '#Demonetization']"
      ]
     },
     "execution_count": 44,
     "metadata": {},
     "output_type": "execute_result"
    }
   ],
   "source": [
    "text = \"RT @kapil_kausik: #Doltiwal I mean #xyzabc is hurt by #Demonetization as the same has rendered USELESS <ed><U+00A0><U+00BD><ed><U+00B1><U+0089> acquired funds No wo\"\n",
    "pattern = \"[#..............]\\w+\"\n",
    "result = re.findall(pattern,text)\n",
    "result\n",
    "#Output: ['#Doltiwal', '#xyzabc', '#Demonetization']"
   ]
  },
  {
   "cell_type": "markdown",
   "id": "3a2d48af",
   "metadata": {},
   "source": [
    "28- Python program using RegEx to remove <U+..> like symbols."
   ]
  },
  {
   "cell_type": "code",
   "execution_count": 45,
   "id": "db6a2428",
   "metadata": {},
   "outputs": [
    {
     "data": {
      "text/plain": [
       "'@Jags123456 Bharat band on 28??<ed>  <ed>  Those who  are protesting #demonetization  are all different party leaders'"
      ]
     },
     "execution_count": 45,
     "metadata": {},
     "output_type": "execute_result"
    }
   ],
   "source": [
    "text = \"@Jags123456 Bharat band on 28??<ed><U+00A0><U+00BD><ed><U+00B8><U+0082>Those who  are protesting #demonetization  are all different party leaders\"\n",
    "pattern = \"<U+.....>\"\n",
    "result = re.sub(pattern,\" \",text)\n",
    "result\n",
    "#Output: @Jags123456 Bharat band on 28??<ed><ed>Those who  are protesting #demonetization  are all different party leaders\n"
   ]
  },
  {
   "cell_type": "markdown",
   "id": "9aabdec1",
   "metadata": {},
   "source": [
    "29-  python program to extract dates from the text stored in the text file.\n"
   ]
  },
  {
   "cell_type": "code",
   "execution_count": 40,
   "id": "5449ff65",
   "metadata": {},
   "outputs": [
    {
     "data": {
      "text/plain": [
       "['12-09-1992', '15-12-1999']"
      ]
     },
     "execution_count": 40,
     "metadata": {},
     "output_type": "execute_result"
    }
   ],
   "source": [
    "import regex as re\n",
    "\n",
    "txt= 'Ron was born on 12-09-1992 and he was admitted to school 15-12-1999.'\n",
    "pattern = r'\\d{2}-\\d{2}-\\d{4}'\n",
    "result = re.findall(pattern, txt)\n",
    "result"
   ]
  },
  {
   "cell_type": "markdown",
   "id": "7ecbfe5e",
   "metadata": {},
   "source": [
    "30.Python program to replace all occurrences of a space, comma, or dot with a colon.\n",
    "\n"
   ]
  },
  {
   "cell_type": "code",
   "execution_count": 47,
   "id": "89350c52",
   "metadata": {},
   "outputs": [],
   "source": [
    "import regex as re"
   ]
  },
  {
   "cell_type": "code",
   "execution_count": 48,
   "id": "f478085e",
   "metadata": {},
   "outputs": [
    {
     "name": "stdout",
     "output_type": "stream",
     "text": [
      "Python:Exercises::PHP:exercises:\n"
     ]
    }
   ],
   "source": [
    "text= 'Python Exercises, PHP exercises.'\n",
    "x = re.sub(r'[ ,.]', ':', text)\n",
    "print(x)\n",
    "#Output: Python:Exercises::PHP:exercises:"
   ]
  },
  {
   "cell_type": "code",
   "execution_count": null,
   "id": "853c3d77",
   "metadata": {},
   "outputs": [],
   "source": []
  }
 ],
 "metadata": {
  "kernelspec": {
   "display_name": "Python 3 (ipykernel)",
   "language": "python",
   "name": "python3"
  },
  "language_info": {
   "codemirror_mode": {
    "name": "ipython",
    "version": 3
   },
   "file_extension": ".py",
   "mimetype": "text/x-python",
   "name": "python",
   "nbconvert_exporter": "python",
   "pygments_lexer": "ipython3",
   "version": "3.9.13"
  }
 },
 "nbformat": 4,
 "nbformat_minor": 5
}
